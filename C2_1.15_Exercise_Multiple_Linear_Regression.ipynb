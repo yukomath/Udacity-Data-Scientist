{
 "cells": [
  {
   "cell_type": "code",
   "execution_count": 1,
   "id": "e6a091eb",
   "metadata": {
    "ExecuteTime": {
     "end_time": "2024-09-10T21:48:57.362611Z",
     "start_time": "2024-09-10T21:48:57.358610Z"
    }
   },
   "outputs": [],
   "source": [
    "# imports\n",
    "# best practice is to keep all the imports in one cell, at the top of your notebook or script\n",
    "\n",
    "import pandas as pd\n",
    "from sklearn.linear_model import LinearRegression\n",
    "from sklearn.model_selection import train_test_split\n",
    "from sklearn.metrics import r2_score, mean_squared_error, root_mean_squared_error\n"
   ]
  },
  {
   "cell_type": "code",
   "execution_count": 2,
   "id": "f62bccb8",
   "metadata": {
    "ExecuteTime": {
     "end_time": "2024-09-10T21:48:58.351890Z",
     "start_time": "2024-09-10T21:48:58.293861Z"
    }
   },
   "outputs": [],
   "source": [
    "# Bring the prepared csv data in\n",
    "df = pd.read_csv('cleanedSO.csv')"
   ]
  },
  {
   "cell_type": "markdown",
   "id": "25cb001f",
   "metadata": {},
   "source": [
    " Using some of the basic pandas tools, explore this dataset. Think back to descriptive statistics and meta data about the dataframe."
   ]
  },
  {
   "cell_type": "code",
   "execution_count": 3,
   "id": "324a97a9",
   "metadata": {},
   "outputs": [
    {
     "data": {
      "text/plain": [
       "(21807, 7)"
      ]
     },
     "execution_count": 3,
     "metadata": {},
     "output_type": "execute_result"
    }
   ],
   "source": [
    "df.shape"
   ]
  },
  {
   "cell_type": "code",
   "execution_count": 4,
   "id": "89801b80",
   "metadata": {},
   "outputs": [
    {
     "data": {
      "text/html": [
       "<div>\n",
       "<style scoped>\n",
       "    .dataframe tbody tr th:only-of-type {\n",
       "        vertical-align: middle;\n",
       "    }\n",
       "\n",
       "    .dataframe tbody tr th {\n",
       "        vertical-align: top;\n",
       "    }\n",
       "\n",
       "    .dataframe thead th {\n",
       "        text-align: right;\n",
       "    }\n",
       "</style>\n",
       "<table border=\"1\" class=\"dataframe\">\n",
       "  <thead>\n",
       "    <tr style=\"text-align: right;\">\n",
       "      <th></th>\n",
       "      <th>Age</th>\n",
       "      <th>RemoteWork</th>\n",
       "      <th>EdLevel</th>\n",
       "      <th>YearsCode</th>\n",
       "      <th>Salary</th>\n",
       "      <th>primaryDB</th>\n",
       "      <th>primaryLang</th>\n",
       "    </tr>\n",
       "  </thead>\n",
       "  <tbody>\n",
       "    <tr>\n",
       "      <th>0</th>\n",
       "      <td>25-34 years old</td>\n",
       "      <td>Hybrid (some remote, some in-person)</td>\n",
       "      <td>Professional degree (JD, MD, Ph.D, Ed.D, etc.)</td>\n",
       "      <td>12</td>\n",
       "      <td>31360.0</td>\n",
       "      <td>other</td>\n",
       "      <td>C</td>\n",
       "    </tr>\n",
       "    <tr>\n",
       "      <th>1</th>\n",
       "      <td>35-44 years old</td>\n",
       "      <td>Remote</td>\n",
       "      <td>Master’s degree (M.A., M.S., M.Eng., MBA, etc.)</td>\n",
       "      <td>15</td>\n",
       "      <td>95200.0</td>\n",
       "      <td>other</td>\n",
       "      <td>JavaScript</td>\n",
       "    </tr>\n",
       "    <tr>\n",
       "      <th>2</th>\n",
       "      <td>35-44 years old</td>\n",
       "      <td>Remote</td>\n",
       "      <td>Master’s degree (M.A., M.S., M.Eng., MBA, etc.)</td>\n",
       "      <td>27</td>\n",
       "      <td>56000.0</td>\n",
       "      <td>BigQuery</td>\n",
       "      <td>Python</td>\n",
       "    </tr>\n",
       "    <tr>\n",
       "      <th>3</th>\n",
       "      <td>25-34 years old</td>\n",
       "      <td>Remote</td>\n",
       "      <td>Some college/university study without earning ...</td>\n",
       "      <td>7</td>\n",
       "      <td>110000.0</td>\n",
       "      <td>other</td>\n",
       "      <td>HTML/CSS</td>\n",
       "    </tr>\n",
       "    <tr>\n",
       "      <th>4</th>\n",
       "      <td>35-44 years old</td>\n",
       "      <td>Hybrid (some remote, some in-person)</td>\n",
       "      <td>Professional degree (JD, MD, Ph.D, Ed.D, etc.)</td>\n",
       "      <td>32</td>\n",
       "      <td>166874.4</td>\n",
       "      <td>BigQuery</td>\n",
       "      <td>C#</td>\n",
       "    </tr>\n",
       "  </tbody>\n",
       "</table>\n",
       "</div>"
      ],
      "text/plain": [
       "               Age                            RemoteWork  \\\n",
       "0  25-34 years old  Hybrid (some remote, some in-person)   \n",
       "1  35-44 years old                                Remote   \n",
       "2  35-44 years old                                Remote   \n",
       "3  25-34 years old                                Remote   \n",
       "4  35-44 years old  Hybrid (some remote, some in-person)   \n",
       "\n",
       "                                             EdLevel  YearsCode    Salary  \\\n",
       "0     Professional degree (JD, MD, Ph.D, Ed.D, etc.)         12   31360.0   \n",
       "1    Master’s degree (M.A., M.S., M.Eng., MBA, etc.)         15   95200.0   \n",
       "2    Master’s degree (M.A., M.S., M.Eng., MBA, etc.)         27   56000.0   \n",
       "3  Some college/university study without earning ...          7  110000.0   \n",
       "4     Professional degree (JD, MD, Ph.D, Ed.D, etc.)         32  166874.4   \n",
       "\n",
       "  primaryDB primaryLang  \n",
       "0     other           C  \n",
       "1     other  JavaScript  \n",
       "2  BigQuery      Python  \n",
       "3     other    HTML/CSS  \n",
       "4  BigQuery          C#  "
      ]
     },
     "execution_count": 4,
     "metadata": {},
     "output_type": "execute_result"
    }
   ],
   "source": [
    "df.head()"
   ]
  },
  {
   "cell_type": "code",
   "execution_count": 5,
   "id": "c8952e00",
   "metadata": {},
   "outputs": [
    {
     "data": {
      "text/html": [
       "<div>\n",
       "<style scoped>\n",
       "    .dataframe tbody tr th:only-of-type {\n",
       "        vertical-align: middle;\n",
       "    }\n",
       "\n",
       "    .dataframe tbody tr th {\n",
       "        vertical-align: top;\n",
       "    }\n",
       "\n",
       "    .dataframe thead th {\n",
       "        text-align: right;\n",
       "    }\n",
       "</style>\n",
       "<table border=\"1\" class=\"dataframe\">\n",
       "  <thead>\n",
       "    <tr style=\"text-align: right;\">\n",
       "      <th></th>\n",
       "      <th>YearsCode</th>\n",
       "      <th>Salary</th>\n",
       "    </tr>\n",
       "  </thead>\n",
       "  <tbody>\n",
       "    <tr>\n",
       "      <th>count</th>\n",
       "      <td>21807.000000</td>\n",
       "      <td>21807.000000</td>\n",
       "    </tr>\n",
       "    <tr>\n",
       "      <th>mean</th>\n",
       "      <td>15.685055</td>\n",
       "      <td>90012.179599</td>\n",
       "    </tr>\n",
       "    <tr>\n",
       "      <th>std</th>\n",
       "      <td>9.926717</td>\n",
       "      <td>68987.446492</td>\n",
       "    </tr>\n",
       "    <tr>\n",
       "      <th>min</th>\n",
       "      <td>1.000000</td>\n",
       "      <td>0.024000</td>\n",
       "    </tr>\n",
       "    <tr>\n",
       "      <th>25%</th>\n",
       "      <td>8.000000</td>\n",
       "      <td>42560.000000</td>\n",
       "    </tr>\n",
       "    <tr>\n",
       "      <th>50%</th>\n",
       "      <td>13.000000</td>\n",
       "      <td>75000.000000</td>\n",
       "    </tr>\n",
       "    <tr>\n",
       "      <th>75%</th>\n",
       "      <td>20.000000</td>\n",
       "      <td>120000.000000</td>\n",
       "    </tr>\n",
       "    <tr>\n",
       "      <th>max</th>\n",
       "      <td>50.000000</td>\n",
       "      <td>498000.000000</td>\n",
       "    </tr>\n",
       "  </tbody>\n",
       "</table>\n",
       "</div>"
      ],
      "text/plain": [
       "          YearsCode         Salary\n",
       "count  21807.000000   21807.000000\n",
       "mean      15.685055   90012.179599\n",
       "std        9.926717   68987.446492\n",
       "min        1.000000       0.024000\n",
       "25%        8.000000   42560.000000\n",
       "50%       13.000000   75000.000000\n",
       "75%       20.000000  120000.000000\n",
       "max       50.000000  498000.000000"
      ]
     },
     "execution_count": 5,
     "metadata": {},
     "output_type": "execute_result"
    }
   ],
   "source": [
    "df.describe()"
   ]
  },
  {
   "cell_type": "code",
   "execution_count": 6,
   "id": "04a2999b",
   "metadata": {},
   "outputs": [
    {
     "data": {
      "text/html": [
       "<div>\n",
       "<style scoped>\n",
       "    .dataframe tbody tr th:only-of-type {\n",
       "        vertical-align: middle;\n",
       "    }\n",
       "\n",
       "    .dataframe tbody tr th {\n",
       "        vertical-align: top;\n",
       "    }\n",
       "\n",
       "    .dataframe thead th {\n",
       "        text-align: right;\n",
       "    }\n",
       "</style>\n",
       "<table border=\"1\" class=\"dataframe\">\n",
       "  <thead>\n",
       "    <tr style=\"text-align: right;\">\n",
       "      <th></th>\n",
       "      <th>Age</th>\n",
       "      <th>RemoteWork</th>\n",
       "      <th>EdLevel</th>\n",
       "      <th>primaryDB</th>\n",
       "      <th>primaryLang</th>\n",
       "    </tr>\n",
       "  </thead>\n",
       "  <tbody>\n",
       "    <tr>\n",
       "      <th>count</th>\n",
       "      <td>21807</td>\n",
       "      <td>21807</td>\n",
       "      <td>21807</td>\n",
       "      <td>21807</td>\n",
       "      <td>21807</td>\n",
       "    </tr>\n",
       "    <tr>\n",
       "      <th>unique</th>\n",
       "      <td>8</td>\n",
       "      <td>3</td>\n",
       "      <td>8</td>\n",
       "      <td>8</td>\n",
       "      <td>11</td>\n",
       "    </tr>\n",
       "    <tr>\n",
       "      <th>top</th>\n",
       "      <td>25-34 years old</td>\n",
       "      <td>Remote</td>\n",
       "      <td>Bachelor’s degree (B.A., B.S., B.Eng., etc.)</td>\n",
       "      <td>other</td>\n",
       "      <td>Bash/Shell (all shells)</td>\n",
       "    </tr>\n",
       "    <tr>\n",
       "      <th>freq</th>\n",
       "      <td>9233</td>\n",
       "      <td>10001</td>\n",
       "      <td>9646</td>\n",
       "      <td>12370</td>\n",
       "      <td>7735</td>\n",
       "    </tr>\n",
       "  </tbody>\n",
       "</table>\n",
       "</div>"
      ],
      "text/plain": [
       "                    Age RemoteWork  \\\n",
       "count             21807      21807   \n",
       "unique                8          3   \n",
       "top     25-34 years old     Remote   \n",
       "freq               9233      10001   \n",
       "\n",
       "                                             EdLevel primaryDB  \\\n",
       "count                                          21807     21807   \n",
       "unique                                             8         8   \n",
       "top     Bachelor’s degree (B.A., B.S., B.Eng., etc.)     other   \n",
       "freq                                            9646     12370   \n",
       "\n",
       "                    primaryLang  \n",
       "count                     21807  \n",
       "unique                       11  \n",
       "top     Bash/Shell (all shells)  \n",
       "freq                       7735  "
      ]
     },
     "execution_count": 6,
     "metadata": {},
     "output_type": "execute_result"
    }
   ],
   "source": [
    "df.describe(include='object')"
   ]
  },
  {
   "cell_type": "code",
   "execution_count": 7,
   "id": "0ef99b63",
   "metadata": {},
   "outputs": [
    {
     "data": {
      "text/plain": [
       "Age             object\n",
       "RemoteWork      object\n",
       "EdLevel         object\n",
       "YearsCode        int64\n",
       "Salary         float64\n",
       "primaryDB       object\n",
       "primaryLang     object\n",
       "dtype: object"
      ]
     },
     "execution_count": 7,
     "metadata": {},
     "output_type": "execute_result"
    }
   ],
   "source": [
    "df.dtypes"
   ]
  },
  {
   "cell_type": "code",
   "execution_count": 8,
   "id": "6b451b25",
   "metadata": {},
   "outputs": [
    {
     "data": {
      "text/plain": [
       "Age            0\n",
       "RemoteWork     0\n",
       "EdLevel        0\n",
       "YearsCode      0\n",
       "Salary         0\n",
       "primaryDB      0\n",
       "primaryLang    0\n",
       "dtype: int64"
      ]
     },
     "execution_count": 8,
     "metadata": {},
     "output_type": "execute_result"
    }
   ],
   "source": [
    "df.isna().sum()"
   ]
  },
  {
   "cell_type": "markdown",
   "id": "92633ecb",
   "metadata": {},
   "source": [
    "#### Questions to consider:\n",
    "\n",
    "1. Does anything jump out while looking at the descriptive statistics?\n",
    "2. What columns can we use without manipulation?\n",
    "3. How are we going to handle the non-numerics?"
   ]
  },
  {
   "cell_type": "markdown",
   "id": "6927d260",
   "metadata": {},
   "source": [
    "### Data Preparation\n",
    "\n",
    "Remember those non-numeric variables? We need to deal with them. We will do that by creating [dummy variables](https://en.wikipedia.org/wiki/Dummy_variable_(statistics)) using the built-in pandas method [`pd.get_dummies()`](https://pandas.pydata.org/docs/reference/api/pandas.get_dummies.html)"
   ]
  },
  {
   "cell_type": "code",
   "execution_count": 9,
   "id": "c0930fb9",
   "metadata": {
    "ExecuteTime": {
     "end_time": "2024-09-10T21:49:02.503433Z",
     "start_time": "2024-09-10T21:49:02.476403Z"
    }
   },
   "outputs": [],
   "source": [
    "# pd.get_dummies is smart enough to look at the datatypes and only use the fields \n",
    "# that are object fields.\n",
    "\n",
    "df = pd.get_dummies(df) "
   ]
  },
  {
   "cell_type": "code",
   "execution_count": 10,
   "id": "b573fac4",
   "metadata": {
    "ExecuteTime": {
     "end_time": "2024-09-10T21:49:04.902989Z",
     "start_time": "2024-09-10T21:49:04.895993Z"
    }
   },
   "outputs": [
    {
     "data": {
      "text/html": [
       "<div>\n",
       "<style scoped>\n",
       "    .dataframe tbody tr th:only-of-type {\n",
       "        vertical-align: middle;\n",
       "    }\n",
       "\n",
       "    .dataframe tbody tr th {\n",
       "        vertical-align: top;\n",
       "    }\n",
       "\n",
       "    .dataframe thead th {\n",
       "        text-align: right;\n",
       "    }\n",
       "</style>\n",
       "<table border=\"1\" class=\"dataframe\">\n",
       "  <thead>\n",
       "    <tr style=\"text-align: right;\">\n",
       "      <th></th>\n",
       "      <th>YearsCode</th>\n",
       "      <th>Salary</th>\n",
       "      <th>Age_18-24 years old</th>\n",
       "      <th>Age_25-34 years old</th>\n",
       "      <th>Age_35-44 years old</th>\n",
       "      <th>Age_45-54 years old</th>\n",
       "      <th>Age_55-64 years old</th>\n",
       "      <th>Age_65 years or older</th>\n",
       "      <th>Age_Prefer not to say</th>\n",
       "      <th>Age_Under 18 years old</th>\n",
       "      <th>...</th>\n",
       "      <th>primaryLang_Bash/Shell (all shells)</th>\n",
       "      <th>primaryLang_C</th>\n",
       "      <th>primaryLang_C#</th>\n",
       "      <th>primaryLang_C++</th>\n",
       "      <th>primaryLang_Go</th>\n",
       "      <th>primaryLang_HTML/CSS</th>\n",
       "      <th>primaryLang_Java</th>\n",
       "      <th>primaryLang_JavaScript</th>\n",
       "      <th>primaryLang_Python</th>\n",
       "      <th>primaryLang_other</th>\n",
       "    </tr>\n",
       "  </thead>\n",
       "  <tbody>\n",
       "    <tr>\n",
       "      <th>0</th>\n",
       "      <td>12</td>\n",
       "      <td>31360.0</td>\n",
       "      <td>False</td>\n",
       "      <td>True</td>\n",
       "      <td>False</td>\n",
       "      <td>False</td>\n",
       "      <td>False</td>\n",
       "      <td>False</td>\n",
       "      <td>False</td>\n",
       "      <td>False</td>\n",
       "      <td>...</td>\n",
       "      <td>False</td>\n",
       "      <td>True</td>\n",
       "      <td>False</td>\n",
       "      <td>False</td>\n",
       "      <td>False</td>\n",
       "      <td>False</td>\n",
       "      <td>False</td>\n",
       "      <td>False</td>\n",
       "      <td>False</td>\n",
       "      <td>False</td>\n",
       "    </tr>\n",
       "    <tr>\n",
       "      <th>1</th>\n",
       "      <td>15</td>\n",
       "      <td>95200.0</td>\n",
       "      <td>False</td>\n",
       "      <td>False</td>\n",
       "      <td>True</td>\n",
       "      <td>False</td>\n",
       "      <td>False</td>\n",
       "      <td>False</td>\n",
       "      <td>False</td>\n",
       "      <td>False</td>\n",
       "      <td>...</td>\n",
       "      <td>False</td>\n",
       "      <td>False</td>\n",
       "      <td>False</td>\n",
       "      <td>False</td>\n",
       "      <td>False</td>\n",
       "      <td>False</td>\n",
       "      <td>False</td>\n",
       "      <td>True</td>\n",
       "      <td>False</td>\n",
       "      <td>False</td>\n",
       "    </tr>\n",
       "    <tr>\n",
       "      <th>2</th>\n",
       "      <td>27</td>\n",
       "      <td>56000.0</td>\n",
       "      <td>False</td>\n",
       "      <td>False</td>\n",
       "      <td>True</td>\n",
       "      <td>False</td>\n",
       "      <td>False</td>\n",
       "      <td>False</td>\n",
       "      <td>False</td>\n",
       "      <td>False</td>\n",
       "      <td>...</td>\n",
       "      <td>False</td>\n",
       "      <td>False</td>\n",
       "      <td>False</td>\n",
       "      <td>False</td>\n",
       "      <td>False</td>\n",
       "      <td>False</td>\n",
       "      <td>False</td>\n",
       "      <td>False</td>\n",
       "      <td>True</td>\n",
       "      <td>False</td>\n",
       "    </tr>\n",
       "    <tr>\n",
       "      <th>3</th>\n",
       "      <td>7</td>\n",
       "      <td>110000.0</td>\n",
       "      <td>False</td>\n",
       "      <td>True</td>\n",
       "      <td>False</td>\n",
       "      <td>False</td>\n",
       "      <td>False</td>\n",
       "      <td>False</td>\n",
       "      <td>False</td>\n",
       "      <td>False</td>\n",
       "      <td>...</td>\n",
       "      <td>False</td>\n",
       "      <td>False</td>\n",
       "      <td>False</td>\n",
       "      <td>False</td>\n",
       "      <td>False</td>\n",
       "      <td>True</td>\n",
       "      <td>False</td>\n",
       "      <td>False</td>\n",
       "      <td>False</td>\n",
       "      <td>False</td>\n",
       "    </tr>\n",
       "    <tr>\n",
       "      <th>4</th>\n",
       "      <td>32</td>\n",
       "      <td>166874.4</td>\n",
       "      <td>False</td>\n",
       "      <td>False</td>\n",
       "      <td>True</td>\n",
       "      <td>False</td>\n",
       "      <td>False</td>\n",
       "      <td>False</td>\n",
       "      <td>False</td>\n",
       "      <td>False</td>\n",
       "      <td>...</td>\n",
       "      <td>False</td>\n",
       "      <td>False</td>\n",
       "      <td>True</td>\n",
       "      <td>False</td>\n",
       "      <td>False</td>\n",
       "      <td>False</td>\n",
       "      <td>False</td>\n",
       "      <td>False</td>\n",
       "      <td>False</td>\n",
       "      <td>False</td>\n",
       "    </tr>\n",
       "  </tbody>\n",
       "</table>\n",
       "<p>5 rows × 40 columns</p>\n",
       "</div>"
      ],
      "text/plain": [
       "   YearsCode    Salary  Age_18-24 years old  Age_25-34 years old  \\\n",
       "0         12   31360.0                False                 True   \n",
       "1         15   95200.0                False                False   \n",
       "2         27   56000.0                False                False   \n",
       "3          7  110000.0                False                 True   \n",
       "4         32  166874.4                False                False   \n",
       "\n",
       "   Age_35-44 years old  Age_45-54 years old  Age_55-64 years old  \\\n",
       "0                False                False                False   \n",
       "1                 True                False                False   \n",
       "2                 True                False                False   \n",
       "3                False                False                False   \n",
       "4                 True                False                False   \n",
       "\n",
       "   Age_65 years or older  Age_Prefer not to say  Age_Under 18 years old  ...  \\\n",
       "0                  False                  False                   False  ...   \n",
       "1                  False                  False                   False  ...   \n",
       "2                  False                  False                   False  ...   \n",
       "3                  False                  False                   False  ...   \n",
       "4                  False                  False                   False  ...   \n",
       "\n",
       "   primaryLang_Bash/Shell (all shells)  primaryLang_C  primaryLang_C#  \\\n",
       "0                                False           True           False   \n",
       "1                                False          False           False   \n",
       "2                                False          False           False   \n",
       "3                                False          False           False   \n",
       "4                                False          False            True   \n",
       "\n",
       "   primaryLang_C++  primaryLang_Go  primaryLang_HTML/CSS  primaryLang_Java  \\\n",
       "0            False           False                 False             False   \n",
       "1            False           False                 False             False   \n",
       "2            False           False                 False             False   \n",
       "3            False           False                  True             False   \n",
       "4            False           False                 False             False   \n",
       "\n",
       "   primaryLang_JavaScript  primaryLang_Python  primaryLang_other  \n",
       "0                   False               False              False  \n",
       "1                    True               False              False  \n",
       "2                   False                True              False  \n",
       "3                   False               False              False  \n",
       "4                   False               False              False  \n",
       "\n",
       "[5 rows x 40 columns]"
      ]
     },
     "execution_count": 10,
     "metadata": {},
     "output_type": "execute_result"
    }
   ],
   "source": [
    "df.head()"
   ]
  },
  {
   "cell_type": "code",
   "execution_count": 11,
   "id": "53186e54",
   "metadata": {},
   "outputs": [
    {
     "data": {
      "text/plain": [
       "YearsCode                                                                                       int64\n",
       "Salary                                                                                        float64\n",
       "Age_18-24 years old                                                                              bool\n",
       "Age_25-34 years old                                                                              bool\n",
       "Age_35-44 years old                                                                              bool\n",
       "Age_45-54 years old                                                                              bool\n",
       "Age_55-64 years old                                                                              bool\n",
       "Age_65 years or older                                                                            bool\n",
       "Age_Prefer not to say                                                                            bool\n",
       "Age_Under 18 years old                                                                           bool\n",
       "RemoteWork_Hybrid (some remote, some in-person)                                                  bool\n",
       "RemoteWork_In-person                                                                             bool\n",
       "RemoteWork_Remote                                                                                bool\n",
       "EdLevel_Associate degree (A.A., A.S., etc.)                                                      bool\n",
       "EdLevel_Bachelor’s degree (B.A., B.S., B.Eng., etc.)                                             bool\n",
       "EdLevel_Master’s degree (M.A., M.S., M.Eng., MBA, etc.)                                          bool\n",
       "EdLevel_Primary/elementary school                                                                bool\n",
       "EdLevel_Professional degree (JD, MD, Ph.D, Ed.D, etc.)                                           bool\n",
       "EdLevel_Secondary school (e.g. American high school, German Realschule or Gymnasium, etc.)       bool\n",
       "EdLevel_Some college/university study without earning a degree                                   bool\n",
       "EdLevel_Something else                                                                           bool\n",
       "primaryDB_BigQuery                                                                               bool\n",
       "primaryDB_Cloud Firestore                                                                        bool\n",
       "primaryDB_Dynamodb                                                                               bool\n",
       "primaryDB_Elasticsearch                                                                          bool\n",
       "primaryDB_MariaDB                                                                                bool\n",
       "primaryDB_MongoDB                                                                                bool\n",
       "primaryDB_SQLite                                                                                 bool\n",
       "primaryDB_other                                                                                  bool\n",
       "primaryLang_Assembly                                                                             bool\n",
       "primaryLang_Bash/Shell (all shells)                                                              bool\n",
       "primaryLang_C                                                                                    bool\n",
       "primaryLang_C#                                                                                   bool\n",
       "primaryLang_C++                                                                                  bool\n",
       "primaryLang_Go                                                                                   bool\n",
       "primaryLang_HTML/CSS                                                                             bool\n",
       "primaryLang_Java                                                                                 bool\n",
       "primaryLang_JavaScript                                                                           bool\n",
       "primaryLang_Python                                                                               bool\n",
       "primaryLang_other                                                                                bool\n",
       "dtype: object"
      ]
     },
     "execution_count": 11,
     "metadata": {},
     "output_type": "execute_result"
    }
   ],
   "source": [
    "# check the datatypes!\n",
    "df.dtypes"
   ]
  },
  {
   "cell_type": "markdown",
   "id": "26171a45",
   "metadata": {},
   "source": [
    "Note that after \"dummying\" we now have all numeric columns"
   ]
  },
  {
   "cell_type": "markdown",
   "id": "dbdaa5e7",
   "metadata": {},
   "source": [
    "### Variable Selection and TTS\n",
    "\n",
    "(recall that TTS stands for train-test-split)\n",
    "\n",
    "Statsmodels uses terms like endogenous and exogenous variables. scikit-learn uses different terminology, more in keeping with the predictive nature.\n",
    "\n",
    "The dependent variable, or, what we are trying to predict, is always `y`.\n",
    "\n",
    "The independent variables, or, what we are using to predict `y` is called `X`.\n",
    "\n",
    "Note the `y` is lower case and the `X` is upper case. This is in following with matrix naming conventions. `X` is a matrix of independent variables and `y` is a vector for the dependent variable."
   ]
  },
  {
   "cell_type": "code",
   "execution_count": 12,
   "id": "9d0f5925",
   "metadata": {
    "ExecuteTime": {
     "end_time": "2024-09-10T21:49:07.064913Z",
     "start_time": "2024-09-10T21:49:07.051913Z"
    }
   },
   "outputs": [],
   "source": [
    "# Set the target, or the y variable\n",
    "\n",
    "y = df['Salary']"
   ]
  },
  {
   "cell_type": "code",
   "execution_count": 13,
   "id": "42820cd8",
   "metadata": {
    "ExecuteTime": {
     "end_time": "2024-09-10T21:49:07.953249Z",
     "start_time": "2024-09-10T21:49:07.943250Z"
    }
   },
   "outputs": [],
   "source": [
    "# Set the independent variable matrix, X\n",
    "\n",
    "X = df.drop('Salary', axis=1)"
   ]
  },
  {
   "cell_type": "code",
   "execution_count": 14,
   "id": "ac20a010",
   "metadata": {
    "ExecuteTime": {
     "end_time": "2024-09-10T21:49:53.028645Z",
     "start_time": "2024-09-10T21:49:53.010620Z"
    }
   },
   "outputs": [
    {
     "data": {
      "text/plain": [
       "((16355, 39), (16355, 39))"
      ]
     },
     "execution_count": 14,
     "metadata": {},
     "output_type": "execute_result"
    }
   ],
   "source": [
    "# create your train-test splits\n",
    "\n",
    "X_train, X_test, y_train, y_test =train_test_split(X,y)\n",
    "X_train.shape, X_train.shape"
   ]
  },
  {
   "cell_type": "markdown",
   "id": "99b42de2",
   "metadata": {},
   "source": [
    "### Modeling\n",
    "\n",
    "We will now instantiate, train, and use a model to make predictions.\n",
    "\n",
    "scikit-learn as a large number of methods, which we will not exploring in their entirety here. We will focus on two methods:\n",
    "1. [`.fit()`](https://scikit-learn.org/stable/modules/generated/sklearn.linear_model.LinearRegression.html#sklearn.linear_model.LinearRegression.fit)\n",
    "2. [`.score()`](https://scikit-learn.org/stable/modules/generated/sklearn.linear_model.LinearRegression.html#sklearn.linear_model.LinearRegression.score)\n",
    "\n",
    "`.fit()` is the method we will use to train our linear regression algorithm.\n",
    "\n",
    "`.score()` will return the default scoring method, which, for linear regression is $r^2$."
   ]
  },
  {
   "cell_type": "code",
   "execution_count": 15,
   "id": "1477ab57",
   "metadata": {},
   "outputs": [],
   "source": [
    "# instantiate\n",
    "# this creates a linear regression object that we can train and score\n",
    "lr = LinearRegression()"
   ]
  },
  {
   "cell_type": "markdown",
   "id": "fd7f760b",
   "metadata": {},
   "source": [
    "We now need to train the model. This is the process of applying the data to linear regression linear equation. Recall the closed form solution for linear regression.\n",
    "\n",
    "$\\vec{b} = (X^TX)^{-1}X^Ty$\n",
    "\n",
    "Where $\\vec{b}$ are the coefficients we are training. This is done via the `.fit()` method."
   ]
  },
  {
   "cell_type": "code",
   "execution_count": 16,
   "id": "6f641aa7",
   "metadata": {
    "ExecuteTime": {
     "end_time": "2024-09-10T21:49:53.886175Z",
     "start_time": "2024-09-10T21:49:53.878175Z"
    }
   },
   "outputs": [
    {
     "data": {
      "text/html": [
       "<style>#sk-container-id-1 {\n",
       "  /* Definition of color scheme common for light and dark mode */\n",
       "  --sklearn-color-text: black;\n",
       "  --sklearn-color-line: gray;\n",
       "  /* Definition of color scheme for unfitted estimators */\n",
       "  --sklearn-color-unfitted-level-0: #fff5e6;\n",
       "  --sklearn-color-unfitted-level-1: #f6e4d2;\n",
       "  --sklearn-color-unfitted-level-2: #ffe0b3;\n",
       "  --sklearn-color-unfitted-level-3: chocolate;\n",
       "  /* Definition of color scheme for fitted estimators */\n",
       "  --sklearn-color-fitted-level-0: #f0f8ff;\n",
       "  --sklearn-color-fitted-level-1: #d4ebff;\n",
       "  --sklearn-color-fitted-level-2: #b3dbfd;\n",
       "  --sklearn-color-fitted-level-3: cornflowerblue;\n",
       "\n",
       "  /* Specific color for light theme */\n",
       "  --sklearn-color-text-on-default-background: var(--sg-text-color, var(--theme-code-foreground, var(--jp-content-font-color1, black)));\n",
       "  --sklearn-color-background: var(--sg-background-color, var(--theme-background, var(--jp-layout-color0, white)));\n",
       "  --sklearn-color-border-box: var(--sg-text-color, var(--theme-code-foreground, var(--jp-content-font-color1, black)));\n",
       "  --sklearn-color-icon: #696969;\n",
       "\n",
       "  @media (prefers-color-scheme: dark) {\n",
       "    /* Redefinition of color scheme for dark theme */\n",
       "    --sklearn-color-text-on-default-background: var(--sg-text-color, var(--theme-code-foreground, var(--jp-content-font-color1, white)));\n",
       "    --sklearn-color-background: var(--sg-background-color, var(--theme-background, var(--jp-layout-color0, #111)));\n",
       "    --sklearn-color-border-box: var(--sg-text-color, var(--theme-code-foreground, var(--jp-content-font-color1, white)));\n",
       "    --sklearn-color-icon: #878787;\n",
       "  }\n",
       "}\n",
       "\n",
       "#sk-container-id-1 {\n",
       "  color: var(--sklearn-color-text);\n",
       "}\n",
       "\n",
       "#sk-container-id-1 pre {\n",
       "  padding: 0;\n",
       "}\n",
       "\n",
       "#sk-container-id-1 input.sk-hidden--visually {\n",
       "  border: 0;\n",
       "  clip: rect(1px 1px 1px 1px);\n",
       "  clip: rect(1px, 1px, 1px, 1px);\n",
       "  height: 1px;\n",
       "  margin: -1px;\n",
       "  overflow: hidden;\n",
       "  padding: 0;\n",
       "  position: absolute;\n",
       "  width: 1px;\n",
       "}\n",
       "\n",
       "#sk-container-id-1 div.sk-dashed-wrapped {\n",
       "  border: 1px dashed var(--sklearn-color-line);\n",
       "  margin: 0 0.4em 0.5em 0.4em;\n",
       "  box-sizing: border-box;\n",
       "  padding-bottom: 0.4em;\n",
       "  background-color: var(--sklearn-color-background);\n",
       "}\n",
       "\n",
       "#sk-container-id-1 div.sk-container {\n",
       "  /* jupyter's `normalize.less` sets `[hidden] { display: none; }`\n",
       "     but bootstrap.min.css set `[hidden] { display: none !important; }`\n",
       "     so we also need the `!important` here to be able to override the\n",
       "     default hidden behavior on the sphinx rendered scikit-learn.org.\n",
       "     See: https://github.com/scikit-learn/scikit-learn/issues/21755 */\n",
       "  display: inline-block !important;\n",
       "  position: relative;\n",
       "}\n",
       "\n",
       "#sk-container-id-1 div.sk-text-repr-fallback {\n",
       "  display: none;\n",
       "}\n",
       "\n",
       "div.sk-parallel-item,\n",
       "div.sk-serial,\n",
       "div.sk-item {\n",
       "  /* draw centered vertical line to link estimators */\n",
       "  background-image: linear-gradient(var(--sklearn-color-text-on-default-background), var(--sklearn-color-text-on-default-background));\n",
       "  background-size: 2px 100%;\n",
       "  background-repeat: no-repeat;\n",
       "  background-position: center center;\n",
       "}\n",
       "\n",
       "/* Parallel-specific style estimator block */\n",
       "\n",
       "#sk-container-id-1 div.sk-parallel-item::after {\n",
       "  content: \"\";\n",
       "  width: 100%;\n",
       "  border-bottom: 2px solid var(--sklearn-color-text-on-default-background);\n",
       "  flex-grow: 1;\n",
       "}\n",
       "\n",
       "#sk-container-id-1 div.sk-parallel {\n",
       "  display: flex;\n",
       "  align-items: stretch;\n",
       "  justify-content: center;\n",
       "  background-color: var(--sklearn-color-background);\n",
       "  position: relative;\n",
       "}\n",
       "\n",
       "#sk-container-id-1 div.sk-parallel-item {\n",
       "  display: flex;\n",
       "  flex-direction: column;\n",
       "}\n",
       "\n",
       "#sk-container-id-1 div.sk-parallel-item:first-child::after {\n",
       "  align-self: flex-end;\n",
       "  width: 50%;\n",
       "}\n",
       "\n",
       "#sk-container-id-1 div.sk-parallel-item:last-child::after {\n",
       "  align-self: flex-start;\n",
       "  width: 50%;\n",
       "}\n",
       "\n",
       "#sk-container-id-1 div.sk-parallel-item:only-child::after {\n",
       "  width: 0;\n",
       "}\n",
       "\n",
       "/* Serial-specific style estimator block */\n",
       "\n",
       "#sk-container-id-1 div.sk-serial {\n",
       "  display: flex;\n",
       "  flex-direction: column;\n",
       "  align-items: center;\n",
       "  background-color: var(--sklearn-color-background);\n",
       "  padding-right: 1em;\n",
       "  padding-left: 1em;\n",
       "}\n",
       "\n",
       "\n",
       "/* Toggleable style: style used for estimator/Pipeline/ColumnTransformer box that is\n",
       "clickable and can be expanded/collapsed.\n",
       "- Pipeline and ColumnTransformer use this feature and define the default style\n",
       "- Estimators will overwrite some part of the style using the `sk-estimator` class\n",
       "*/\n",
       "\n",
       "/* Pipeline and ColumnTransformer style (default) */\n",
       "\n",
       "#sk-container-id-1 div.sk-toggleable {\n",
       "  /* Default theme specific background. It is overwritten whether we have a\n",
       "  specific estimator or a Pipeline/ColumnTransformer */\n",
       "  background-color: var(--sklearn-color-background);\n",
       "}\n",
       "\n",
       "/* Toggleable label */\n",
       "#sk-container-id-1 label.sk-toggleable__label {\n",
       "  cursor: pointer;\n",
       "  display: block;\n",
       "  width: 100%;\n",
       "  margin-bottom: 0;\n",
       "  padding: 0.5em;\n",
       "  box-sizing: border-box;\n",
       "  text-align: center;\n",
       "}\n",
       "\n",
       "#sk-container-id-1 label.sk-toggleable__label-arrow:before {\n",
       "  /* Arrow on the left of the label */\n",
       "  content: \"▸\";\n",
       "  float: left;\n",
       "  margin-right: 0.25em;\n",
       "  color: var(--sklearn-color-icon);\n",
       "}\n",
       "\n",
       "#sk-container-id-1 label.sk-toggleable__label-arrow:hover:before {\n",
       "  color: var(--sklearn-color-text);\n",
       "}\n",
       "\n",
       "/* Toggleable content - dropdown */\n",
       "\n",
       "#sk-container-id-1 div.sk-toggleable__content {\n",
       "  max-height: 0;\n",
       "  max-width: 0;\n",
       "  overflow: hidden;\n",
       "  text-align: left;\n",
       "  /* unfitted */\n",
       "  background-color: var(--sklearn-color-unfitted-level-0);\n",
       "}\n",
       "\n",
       "#sk-container-id-1 div.sk-toggleable__content.fitted {\n",
       "  /* fitted */\n",
       "  background-color: var(--sklearn-color-fitted-level-0);\n",
       "}\n",
       "\n",
       "#sk-container-id-1 div.sk-toggleable__content pre {\n",
       "  margin: 0.2em;\n",
       "  border-radius: 0.25em;\n",
       "  color: var(--sklearn-color-text);\n",
       "  /* unfitted */\n",
       "  background-color: var(--sklearn-color-unfitted-level-0);\n",
       "}\n",
       "\n",
       "#sk-container-id-1 div.sk-toggleable__content.fitted pre {\n",
       "  /* unfitted */\n",
       "  background-color: var(--sklearn-color-fitted-level-0);\n",
       "}\n",
       "\n",
       "#sk-container-id-1 input.sk-toggleable__control:checked~div.sk-toggleable__content {\n",
       "  /* Expand drop-down */\n",
       "  max-height: 200px;\n",
       "  max-width: 100%;\n",
       "  overflow: auto;\n",
       "}\n",
       "\n",
       "#sk-container-id-1 input.sk-toggleable__control:checked~label.sk-toggleable__label-arrow:before {\n",
       "  content: \"▾\";\n",
       "}\n",
       "\n",
       "/* Pipeline/ColumnTransformer-specific style */\n",
       "\n",
       "#sk-container-id-1 div.sk-label input.sk-toggleable__control:checked~label.sk-toggleable__label {\n",
       "  color: var(--sklearn-color-text);\n",
       "  background-color: var(--sklearn-color-unfitted-level-2);\n",
       "}\n",
       "\n",
       "#sk-container-id-1 div.sk-label.fitted input.sk-toggleable__control:checked~label.sk-toggleable__label {\n",
       "  background-color: var(--sklearn-color-fitted-level-2);\n",
       "}\n",
       "\n",
       "/* Estimator-specific style */\n",
       "\n",
       "/* Colorize estimator box */\n",
       "#sk-container-id-1 div.sk-estimator input.sk-toggleable__control:checked~label.sk-toggleable__label {\n",
       "  /* unfitted */\n",
       "  background-color: var(--sklearn-color-unfitted-level-2);\n",
       "}\n",
       "\n",
       "#sk-container-id-1 div.sk-estimator.fitted input.sk-toggleable__control:checked~label.sk-toggleable__label {\n",
       "  /* fitted */\n",
       "  background-color: var(--sklearn-color-fitted-level-2);\n",
       "}\n",
       "\n",
       "#sk-container-id-1 div.sk-label label.sk-toggleable__label,\n",
       "#sk-container-id-1 div.sk-label label {\n",
       "  /* The background is the default theme color */\n",
       "  color: var(--sklearn-color-text-on-default-background);\n",
       "}\n",
       "\n",
       "/* On hover, darken the color of the background */\n",
       "#sk-container-id-1 div.sk-label:hover label.sk-toggleable__label {\n",
       "  color: var(--sklearn-color-text);\n",
       "  background-color: var(--sklearn-color-unfitted-level-2);\n",
       "}\n",
       "\n",
       "/* Label box, darken color on hover, fitted */\n",
       "#sk-container-id-1 div.sk-label.fitted:hover label.sk-toggleable__label.fitted {\n",
       "  color: var(--sklearn-color-text);\n",
       "  background-color: var(--sklearn-color-fitted-level-2);\n",
       "}\n",
       "\n",
       "/* Estimator label */\n",
       "\n",
       "#sk-container-id-1 div.sk-label label {\n",
       "  font-family: monospace;\n",
       "  font-weight: bold;\n",
       "  display: inline-block;\n",
       "  line-height: 1.2em;\n",
       "}\n",
       "\n",
       "#sk-container-id-1 div.sk-label-container {\n",
       "  text-align: center;\n",
       "}\n",
       "\n",
       "/* Estimator-specific */\n",
       "#sk-container-id-1 div.sk-estimator {\n",
       "  font-family: monospace;\n",
       "  border: 1px dotted var(--sklearn-color-border-box);\n",
       "  border-radius: 0.25em;\n",
       "  box-sizing: border-box;\n",
       "  margin-bottom: 0.5em;\n",
       "  /* unfitted */\n",
       "  background-color: var(--sklearn-color-unfitted-level-0);\n",
       "}\n",
       "\n",
       "#sk-container-id-1 div.sk-estimator.fitted {\n",
       "  /* fitted */\n",
       "  background-color: var(--sklearn-color-fitted-level-0);\n",
       "}\n",
       "\n",
       "/* on hover */\n",
       "#sk-container-id-1 div.sk-estimator:hover {\n",
       "  /* unfitted */\n",
       "  background-color: var(--sklearn-color-unfitted-level-2);\n",
       "}\n",
       "\n",
       "#sk-container-id-1 div.sk-estimator.fitted:hover {\n",
       "  /* fitted */\n",
       "  background-color: var(--sklearn-color-fitted-level-2);\n",
       "}\n",
       "\n",
       "/* Specification for estimator info (e.g. \"i\" and \"?\") */\n",
       "\n",
       "/* Common style for \"i\" and \"?\" */\n",
       "\n",
       ".sk-estimator-doc-link,\n",
       "a:link.sk-estimator-doc-link,\n",
       "a:visited.sk-estimator-doc-link {\n",
       "  float: right;\n",
       "  font-size: smaller;\n",
       "  line-height: 1em;\n",
       "  font-family: monospace;\n",
       "  background-color: var(--sklearn-color-background);\n",
       "  border-radius: 1em;\n",
       "  height: 1em;\n",
       "  width: 1em;\n",
       "  text-decoration: none !important;\n",
       "  margin-left: 1ex;\n",
       "  /* unfitted */\n",
       "  border: var(--sklearn-color-unfitted-level-1) 1pt solid;\n",
       "  color: var(--sklearn-color-unfitted-level-1);\n",
       "}\n",
       "\n",
       ".sk-estimator-doc-link.fitted,\n",
       "a:link.sk-estimator-doc-link.fitted,\n",
       "a:visited.sk-estimator-doc-link.fitted {\n",
       "  /* fitted */\n",
       "  border: var(--sklearn-color-fitted-level-1) 1pt solid;\n",
       "  color: var(--sklearn-color-fitted-level-1);\n",
       "}\n",
       "\n",
       "/* On hover */\n",
       "div.sk-estimator:hover .sk-estimator-doc-link:hover,\n",
       ".sk-estimator-doc-link:hover,\n",
       "div.sk-label-container:hover .sk-estimator-doc-link:hover,\n",
       ".sk-estimator-doc-link:hover {\n",
       "  /* unfitted */\n",
       "  background-color: var(--sklearn-color-unfitted-level-3);\n",
       "  color: var(--sklearn-color-background);\n",
       "  text-decoration: none;\n",
       "}\n",
       "\n",
       "div.sk-estimator.fitted:hover .sk-estimator-doc-link.fitted:hover,\n",
       ".sk-estimator-doc-link.fitted:hover,\n",
       "div.sk-label-container:hover .sk-estimator-doc-link.fitted:hover,\n",
       ".sk-estimator-doc-link.fitted:hover {\n",
       "  /* fitted */\n",
       "  background-color: var(--sklearn-color-fitted-level-3);\n",
       "  color: var(--sklearn-color-background);\n",
       "  text-decoration: none;\n",
       "}\n",
       "\n",
       "/* Span, style for the box shown on hovering the info icon */\n",
       ".sk-estimator-doc-link span {\n",
       "  display: none;\n",
       "  z-index: 9999;\n",
       "  position: relative;\n",
       "  font-weight: normal;\n",
       "  right: .2ex;\n",
       "  padding: .5ex;\n",
       "  margin: .5ex;\n",
       "  width: min-content;\n",
       "  min-width: 20ex;\n",
       "  max-width: 50ex;\n",
       "  color: var(--sklearn-color-text);\n",
       "  box-shadow: 2pt 2pt 4pt #999;\n",
       "  /* unfitted */\n",
       "  background: var(--sklearn-color-unfitted-level-0);\n",
       "  border: .5pt solid var(--sklearn-color-unfitted-level-3);\n",
       "}\n",
       "\n",
       ".sk-estimator-doc-link.fitted span {\n",
       "  /* fitted */\n",
       "  background: var(--sklearn-color-fitted-level-0);\n",
       "  border: var(--sklearn-color-fitted-level-3);\n",
       "}\n",
       "\n",
       ".sk-estimator-doc-link:hover span {\n",
       "  display: block;\n",
       "}\n",
       "\n",
       "/* \"?\"-specific style due to the `<a>` HTML tag */\n",
       "\n",
       "#sk-container-id-1 a.estimator_doc_link {\n",
       "  float: right;\n",
       "  font-size: 1rem;\n",
       "  line-height: 1em;\n",
       "  font-family: monospace;\n",
       "  background-color: var(--sklearn-color-background);\n",
       "  border-radius: 1rem;\n",
       "  height: 1rem;\n",
       "  width: 1rem;\n",
       "  text-decoration: none;\n",
       "  /* unfitted */\n",
       "  color: var(--sklearn-color-unfitted-level-1);\n",
       "  border: var(--sklearn-color-unfitted-level-1) 1pt solid;\n",
       "}\n",
       "\n",
       "#sk-container-id-1 a.estimator_doc_link.fitted {\n",
       "  /* fitted */\n",
       "  border: var(--sklearn-color-fitted-level-1) 1pt solid;\n",
       "  color: var(--sklearn-color-fitted-level-1);\n",
       "}\n",
       "\n",
       "/* On hover */\n",
       "#sk-container-id-1 a.estimator_doc_link:hover {\n",
       "  /* unfitted */\n",
       "  background-color: var(--sklearn-color-unfitted-level-3);\n",
       "  color: var(--sklearn-color-background);\n",
       "  text-decoration: none;\n",
       "}\n",
       "\n",
       "#sk-container-id-1 a.estimator_doc_link.fitted:hover {\n",
       "  /* fitted */\n",
       "  background-color: var(--sklearn-color-fitted-level-3);\n",
       "}\n",
       "</style><div id=\"sk-container-id-1\" class=\"sk-top-container\"><div class=\"sk-text-repr-fallback\"><pre>LinearRegression()</pre><b>In a Jupyter environment, please rerun this cell to show the HTML representation or trust the notebook. <br />On GitHub, the HTML representation is unable to render, please try loading this page with nbviewer.org.</b></div><div class=\"sk-container\" hidden><div class=\"sk-item\"><div class=\"sk-estimator fitted sk-toggleable\"><input class=\"sk-toggleable__control sk-hidden--visually\" id=\"sk-estimator-id-1\" type=\"checkbox\" checked><label for=\"sk-estimator-id-1\" class=\"sk-toggleable__label fitted sk-toggleable__label-arrow fitted\">&nbsp;&nbsp;LinearRegression<a class=\"sk-estimator-doc-link fitted\" rel=\"noreferrer\" target=\"_blank\" href=\"https://scikit-learn.org/1.5/modules/generated/sklearn.linear_model.LinearRegression.html\">?<span>Documentation for LinearRegression</span></a><span class=\"sk-estimator-doc-link fitted\">i<span>Fitted</span></span></label><div class=\"sk-toggleable__content fitted\"><pre>LinearRegression()</pre></div> </div></div></div></div>"
      ],
      "text/plain": [
       "LinearRegression()"
      ]
     },
     "execution_count": 16,
     "metadata": {},
     "output_type": "execute_result"
    }
   ],
   "source": [
    "# Train the model with the .fit() method\n",
    "lr.fit(X, y)\n"
   ]
  },
  {
   "cell_type": "markdown",
   "id": "8023807b",
   "metadata": {},
   "source": [
    "# Evaluation\n",
    "\n",
    "We are going to use the scikit-learn metrics $r^2$ and mean squared error to evaluate how the model is performing."
   ]
  },
  {
   "cell_type": "code",
   "execution_count": 17,
   "id": "24dbac6f",
   "metadata": {
    "ExecuteTime": {
     "end_time": "2024-09-10T21:49:59.127933Z",
     "start_time": "2024-09-10T21:49:59.114933Z"
    }
   },
   "outputs": [
    {
     "data": {
      "text/plain": [
       "0.22852390181570326"
      ]
     },
     "execution_count": 17,
     "metadata": {},
     "output_type": "execute_result"
    }
   ],
   "source": [
    "# use .score(). Recall this returns the default scoring method, which, for linear regression is r^2.\n",
    "\n",
    "lr.score(X, y)"
   ]
  },
  {
   "cell_type": "markdown",
   "id": "f0a67080",
   "metadata": {},
   "source": [
    "Looking at that numbers what are your take-aways?\n",
    "\n",
    "\n",
    "\n",
    "\n",
    "\n",
    "Now we'll look at mean squared error. In order to get this metric, we need to create our predictions using our trained model. This is done with the [`.predict()`](https://scikit-learn.org/stable/modules/generated/sklearn.linear_model.LinearRegression.html#sklearn.linear_model.LinearRegression.predict) method."
   ]
  },
  {
   "cell_type": "code",
   "execution_count": 18,
   "id": "089bc81f",
   "metadata": {
    "ExecuteTime": {
     "end_time": "2024-09-10T21:50:04.609267Z",
     "start_time": "2024-09-10T21:50:04.598267Z"
    }
   },
   "outputs": [],
   "source": [
    "# Get predictions\n",
    "\n",
    "y_pred = lr.predict(X)"
   ]
  },
  {
   "cell_type": "code",
   "execution_count": 19,
   "id": "3404f1cb",
   "metadata": {
    "ExecuteTime": {
     "end_time": "2024-09-10T21:50:12.533933Z",
     "start_time": "2024-09-10T21:50:12.520933Z"
    }
   },
   "outputs": [
    {
     "data": {
      "text/plain": [
       "np.float64(3671492961.327205)"
      ]
     },
     "execution_count": 19,
     "metadata": {},
     "output_type": "execute_result"
    }
   ],
   "source": [
    "# Use y_pred and y with the mean squared error method\n",
    "mse = mean_squared_error(y, y_pred)\n",
    "mse\n",
    "\n"
   ]
  },
  {
   "cell_type": "markdown",
   "id": "c21433b7",
   "metadata": {},
   "source": [
    "That number is ridiculously large. The reason is this method returns the *squared* error. This doesn't really translate well, so we'll take the square of it to get a more usable number. Another advantage is the units of the RMSE are the same as the target. In this instance, RMSE will tell us the average error in dollars, since that's what the target is."
   ]
  },
  {
   "cell_type": "code",
   "execution_count": 20,
   "id": "3e55f371",
   "metadata": {
    "ExecuteTime": {
     "end_time": "2024-08-25T23:02:59.622024Z",
     "start_time": "2024-08-25T23:02:59.610024Z"
    }
   },
   "outputs": [
    {
     "data": {
      "text/plain": [
       "np.float64(60592.845793271714)"
      ]
     },
     "execution_count": 20,
     "metadata": {},
     "output_type": "execute_result"
    }
   ],
   "source": [
    "# use a better metric\n",
    "\n",
    "rmse = mse**(1/2)\n",
    "rmse"
   ]
  },
  {
   "cell_type": "code",
   "execution_count": 21,
   "id": "42d1f811",
   "metadata": {},
   "outputs": [
    {
     "data": {
      "text/plain": [
       "np.float64(60592.845793271714)"
      ]
     },
     "execution_count": 21,
     "metadata": {},
     "output_type": "execute_result"
    }
   ],
   "source": [
    "rmse2 = root_mean_squared_error(y, y_pred)\n",
    "rmse2"
   ]
  },
  {
   "cell_type": "markdown",
   "id": "0adc8913",
   "metadata": {},
   "source": [
    "Our $r^2$ is .2282. This is a very low number.\n",
    "\n",
    "Our root mean squared error is 60,410. This can be read as the average salary prediction is off by $60k. This is not good, either."
   ]
  },
  {
   "cell_type": "markdown",
   "id": "e2e04c3c",
   "metadata": {},
   "source": [
    "So what can we conclude from this?\n",
    "\n",
    "1. The model isn't good. At all.\n",
    "2. There is an issue with the data (a minimum salary of .024?)\n",
    "\n",
    "The good news is that it isn't overfit. We got an equally bad model with both our training and testing data"
   ]
  },
  {
   "cell_type": "markdown",
   "id": "0da93a1b",
   "metadata": {},
   "source": [
    "conclusion\n",
    "\n",
    "You know now how to:\n",
    "    \n",
    "1. instantiate a sckit-learn model    \n",
    "2. train a model\n",
    "3. score a model with multiple metrics"
   ]
  }
 ],
 "metadata": {
  "kernelspec": {
   "display_name": "Python 3 (ipykernel)",
   "language": "python",
   "name": "python3"
  },
  "language_info": {
   "codemirror_mode": {
    "name": "ipython",
    "version": 3
   },
   "file_extension": ".py",
   "mimetype": "text/x-python",
   "name": "python",
   "nbconvert_exporter": "python",
   "pygments_lexer": "ipython3",
   "version": "3.10.13"
  },
  "toc": {
   "base_numbering": 1,
   "nav_menu": {},
   "number_sections": true,
   "sideBar": true,
   "skip_h1_title": false,
   "title_cell": "Table of Contents",
   "title_sidebar": "Contents",
   "toc_cell": false,
   "toc_position": {},
   "toc_section_display": true,
   "toc_window_display": false
  },
  "varInspector": {
   "cols": {
    "lenName": 16,
    "lenType": 16,
    "lenVar": 40
   },
   "kernels_config": {
    "python": {
     "delete_cmd_postfix": "",
     "delete_cmd_prefix": "del ",
     "library": "var_list.py",
     "varRefreshCmd": "print(var_dic_list())"
    },
    "r": {
     "delete_cmd_postfix": ") ",
     "delete_cmd_prefix": "rm(",
     "library": "var_list.r",
     "varRefreshCmd": "cat(var_dic_list()) "
    }
   },
   "types_to_exclude": [
    "module",
    "function",
    "builtin_function_or_method",
    "instance",
    "_Feature"
   ],
   "window_display": false
  }
 },
 "nbformat": 4,
 "nbformat_minor": 5
}
