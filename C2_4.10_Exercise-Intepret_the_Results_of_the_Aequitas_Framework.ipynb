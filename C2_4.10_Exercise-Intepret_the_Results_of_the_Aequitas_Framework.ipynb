{
 "cells": [
  {
   "cell_type": "code",
   "execution_count": 1,
   "id": "4c47c5ca",
   "metadata": {},
   "outputs": [
    {
     "name": "stdout",
     "output_type": "stream",
     "text": [
      "Requirement already satisfied: aequitas==1.0.0.dev0 in /opt/venv/lib/python3.10/site-packages (1.0.0.dev0)\n",
      "Requirement already satisfied: aif360>=0.5.0 in /opt/venv/lib/python3.10/site-packages (from aequitas==1.0.0.dev0) (0.6.1)\n",
      "Requirement already satisfied: seaborn>=0.9.0 in /opt/venv/lib/python3.10/site-packages (from aequitas==1.0.0.dev0) (0.13.2)\n",
      "Requirement already satisfied: pyyaml>=5.1 in /opt/venv/lib/python3.10/site-packages (from aequitas==1.0.0.dev0) (6.0.2)\n",
      "Requirement already satisfied: millify==0.1.1 in /opt/venv/lib/python3.10/site-packages (from aequitas==1.0.0.dev0) (0.1.1)\n",
      "Requirement already satisfied: optuna>=3.0.0 in /opt/venv/lib/python3.10/site-packages (from aequitas==1.0.0.dev0) (4.5.0)\n",
      "Requirement already satisfied: validators>=0.22.0 in /opt/venv/lib/python3.10/site-packages (from aequitas==1.0.0.dev0) (0.35.0)\n",
      "Requirement already satisfied: scipy>=0.18.1 in /opt/venv/lib/python3.10/site-packages (from aequitas==1.0.0.dev0) (1.14.1)\n",
      "Requirement already satisfied: altair>=4.1.0 in /opt/venv/lib/python3.10/site-packages (from aequitas==1.0.0.dev0) (4.1.0)\n",
      "Requirement already satisfied: fairlearn>=0.8.0 in /opt/venv/lib/python3.10/site-packages (from aequitas==1.0.0.dev0) (0.9.0)\n",
      "Requirement already satisfied: pandas>=0.24.1 in /opt/venv/lib/python3.10/site-packages (from aequitas==1.0.0.dev0) (2.2.2)\n",
      "Requirement already satisfied: hyperparameter-tuning>=0.3.1 in /opt/venv/lib/python3.10/site-packages (from aequitas==1.0.0.dev0) (0.3.2)\n",
      "Requirement already satisfied: hydra-core>=1.3.0 in /opt/venv/lib/python3.10/site-packages (from aequitas==1.0.0.dev0) (1.3.2)\n",
      "Requirement already satisfied: numpy==1.23.5 in /opt/venv/lib/python3.10/site-packages (from aequitas==1.0.0.dev0) (1.23.5)\n",
      "Requirement already satisfied: fairgbm==0.9.14 in /opt/venv/lib/python3.10/site-packages (from aequitas==1.0.0.dev0) (0.9.14)\n",
      "Requirement already satisfied: matplotlib>=3.0.3 in /opt/venv/lib/python3.10/site-packages (from aequitas==1.0.0.dev0) (3.9.2)\n",
      "Requirement already satisfied: wheel in /opt/venv/lib/python3.10/site-packages (from fairgbm==0.9.14->aequitas==1.0.0.dev0) (0.45.1)\n",
      "Requirement already satisfied: scikit-learn!=0.22.0 in /opt/venv/lib/python3.10/site-packages (from fairgbm==0.9.14->aequitas==1.0.0.dev0) (1.5.1)\n",
      "Requirement already satisfied: jinja2 in /opt/venv/lib/python3.10/site-packages (from altair>=4.1.0->aequitas==1.0.0.dev0) (3.1.4)\n",
      "Requirement already satisfied: toolz in /opt/venv/lib/python3.10/site-packages (from altair>=4.1.0->aequitas==1.0.0.dev0) (1.0.0)\n",
      "Requirement already satisfied: jsonschema in /opt/venv/lib/python3.10/site-packages (from altair>=4.1.0->aequitas==1.0.0.dev0) (4.23.0)\n",
      "Requirement already satisfied: entrypoints in /opt/venv/lib/python3.10/site-packages (from altair>=4.1.0->aequitas==1.0.0.dev0) (0.4)\n",
      "Requirement already satisfied: omegaconf<2.4,>=2.2 in /opt/venv/lib/python3.10/site-packages (from hydra-core>=1.3.0->aequitas==1.0.0.dev0) (2.3.0)\n",
      "Requirement already satisfied: antlr4-python3-runtime==4.9.* in /opt/venv/lib/python3.10/site-packages (from hydra-core>=1.3.0->aequitas==1.0.0.dev0) (4.9.3)\n",
      "Requirement already satisfied: packaging in /opt/venv/lib/python3.10/site-packages (from hydra-core>=1.3.0->aequitas==1.0.0.dev0) (24.2)\n",
      "Requirement already satisfied: schema in /opt/venv/lib/python3.10/site-packages (from hyperparameter-tuning>=0.3.1->aequitas==1.0.0.dev0) (0.7.8)\n",
      "Requirement already satisfied: contourpy>=1.0.1 in /opt/venv/lib/python3.10/site-packages (from matplotlib>=3.0.3->aequitas==1.0.0.dev0) (1.3.1)\n",
      "Requirement already satisfied: cycler>=0.10 in /opt/venv/lib/python3.10/site-packages (from matplotlib>=3.0.3->aequitas==1.0.0.dev0) (0.12.1)\n",
      "Requirement already satisfied: pillow>=8 in /opt/venv/lib/python3.10/site-packages (from matplotlib>=3.0.3->aequitas==1.0.0.dev0) (11.0.0)\n",
      "Requirement already satisfied: pyparsing>=2.3.1 in /opt/venv/lib/python3.10/site-packages (from matplotlib>=3.0.3->aequitas==1.0.0.dev0) (3.2.0)\n",
      "Requirement already satisfied: python-dateutil>=2.7 in /opt/venv/lib/python3.10/site-packages (from matplotlib>=3.0.3->aequitas==1.0.0.dev0) (2.9.0.post0)\n",
      "Requirement already satisfied: kiwisolver>=1.3.1 in /opt/venv/lib/python3.10/site-packages (from matplotlib>=3.0.3->aequitas==1.0.0.dev0) (1.4.7)\n",
      "Requirement already satisfied: fonttools>=4.22.0 in /opt/venv/lib/python3.10/site-packages (from matplotlib>=3.0.3->aequitas==1.0.0.dev0) (4.55.3)\n",
      "Requirement already satisfied: sqlalchemy>=1.4.2 in /opt/venv/lib/python3.10/site-packages (from optuna>=3.0.0->aequitas==1.0.0.dev0) (2.0.36)\n",
      "Requirement already satisfied: colorlog in /opt/venv/lib/python3.10/site-packages (from optuna>=3.0.0->aequitas==1.0.0.dev0) (6.10.1)\n",
      "Requirement already satisfied: alembic>=1.5.0 in /opt/venv/lib/python3.10/site-packages (from optuna>=3.0.0->aequitas==1.0.0.dev0) (1.17.0)\n",
      "Requirement already satisfied: tqdm in /opt/venv/lib/python3.10/site-packages (from optuna>=3.0.0->aequitas==1.0.0.dev0) (4.67.1)\n",
      "Requirement already satisfied: tzdata>=2022.7 in /opt/venv/lib/python3.10/site-packages (from pandas>=0.24.1->aequitas==1.0.0.dev0) (2024.2)\n",
      "Requirement already satisfied: pytz>=2020.1 in /opt/venv/lib/python3.10/site-packages (from pandas>=0.24.1->aequitas==1.0.0.dev0) (2024.2)\n",
      "Requirement already satisfied: typing-extensions>=4.12 in /opt/venv/lib/python3.10/site-packages (from alembic>=1.5.0->optuna>=3.0.0->aequitas==1.0.0.dev0) (4.12.2)\n",
      "Requirement already satisfied: Mako in /opt/venv/lib/python3.10/site-packages (from alembic>=1.5.0->optuna>=3.0.0->aequitas==1.0.0.dev0) (1.3.10)\n",
      "Requirement already satisfied: tomli in /opt/venv/lib/python3.10/site-packages (from alembic>=1.5.0->optuna>=3.0.0->aequitas==1.0.0.dev0) (2.3.0)\n",
      "Requirement already satisfied: six>=1.5 in /opt/venv/lib/python3.10/site-packages (from python-dateutil>=2.7->matplotlib>=3.0.3->aequitas==1.0.0.dev0) (1.17.0)\n",
      "Requirement already satisfied: threadpoolctl>=3.1.0 in /opt/venv/lib/python3.10/site-packages (from scikit-learn!=0.22.0->fairgbm==0.9.14->aequitas==1.0.0.dev0) (3.5.0)\n",
      "Requirement already satisfied: joblib>=1.2.0 in /opt/venv/lib/python3.10/site-packages (from scikit-learn!=0.22.0->fairgbm==0.9.14->aequitas==1.0.0.dev0) (1.4.2)\n",
      "Requirement already satisfied: greenlet!=0.4.17 in /opt/venv/lib/python3.10/site-packages (from sqlalchemy>=1.4.2->optuna>=3.0.0->aequitas==1.0.0.dev0) (3.1.1)\n",
      "Requirement already satisfied: MarkupSafe>=2.0 in /opt/venv/lib/python3.10/site-packages (from jinja2->altair>=4.1.0->aequitas==1.0.0.dev0) (3.0.2)\n",
      "Requirement already satisfied: attrs>=22.2.0 in /opt/venv/lib/python3.10/site-packages (from jsonschema->altair>=4.1.0->aequitas==1.0.0.dev0) (24.2.0)\n",
      "Requirement already satisfied: rpds-py>=0.7.1 in /opt/venv/lib/python3.10/site-packages (from jsonschema->altair>=4.1.0->aequitas==1.0.0.dev0) (0.22.3)\n",
      "Requirement already satisfied: referencing>=0.28.4 in /opt/venv/lib/python3.10/site-packages (from jsonschema->altair>=4.1.0->aequitas==1.0.0.dev0) (0.35.1)\n",
      "Requirement already satisfied: jsonschema-specifications>=2023.03.6 in /opt/venv/lib/python3.10/site-packages (from jsonschema->altair>=4.1.0->aequitas==1.0.0.dev0) (2024.10.1)\n",
      "\n",
      "\u001b[1m[\u001b[0m\u001b[34;49mnotice\u001b[0m\u001b[1;39;49m]\u001b[0m\u001b[39;49m A new release of pip is available: \u001b[0m\u001b[31;49m23.0.1\u001b[0m\u001b[39;49m -> \u001b[0m\u001b[32;49m25.2\u001b[0m\n",
      "\u001b[1m[\u001b[0m\u001b[34;49mnotice\u001b[0m\u001b[1;39;49m]\u001b[0m\u001b[39;49m To update, run: \u001b[0m\u001b[32;49mpip install --upgrade pip\u001b[0m\n"
     ]
    }
   ],
   "source": [
    "# Run this code cell once and restart the kernel again\n",
    "# Do not run after restarting the kernel\n",
    "!pip install aequitas==1.0.0.dev0"
   ]
  },
  {
   "cell_type": "code",
   "execution_count": 2,
   "id": "8083e30b",
   "metadata": {},
   "outputs": [
    {
     "data": {
      "image/png": "[encoded data removed]",
      "text/plain": [
       "<Figure size 640x480 with 1 Axes>"
      ]
     },
     "metadata": {},
     "output_type": "display_data"
    }
   ],
   "source": [
    "# First, we will ensure that we can successfully import the aequitas framework\n",
    "\n",
    "import aequitas\n",
    "import pandas as pd\n",
    "import seaborn as sns\n",
    "\n",
    "# next, we will design a dataframe that is suitable for the aequitas framework. \n",
    "# Input data must have at least one sensitive variable (race, age, sex, income)\n",
    "# The label value must be binary and the score value can be binary or continuous\n",
    "\n",
    "'''\n",
    "Below, you will find a link to the COMPAS dataset that describes rates of crime recidivism among\n",
    "different demographic groups. Import the dataset and run the graph below to display the rates\n",
    "of crime recidivism among different ethnic groups.\n",
    "'''\n",
    "\n",
    "aequitas_df = pd.read_csv(\"../data/compas_for_aequitas.csv\")\n",
    "\n",
    "# print the output of your aequitas_df\n",
    "\n",
    "by_race = sns.countplot(x=\"race\", hue=\"score\", data=aequitas_df[aequitas_df.race.isin(['African-American', 'Caucasian', 'Hispanic'])])"
   ]
  },
  {
   "cell_type": "code",
   "execution_count": 3,
   "id": "ea845d28",
   "metadata": {},
   "outputs": [],
   "source": [
    "'''\n",
    "In this exercise, we will use Aequitas to compute the crosstabular metrics\n",
    "which can be used to subsequently calculate disparity metrics between groups below.\n",
    "'''\n",
    "\n",
    "from aequitas.bias import Bias\n",
    "from aequitas.fairness import Fairness\n",
    "from aequitas.plotting import Plot\n",
    "from aequitas.group import Group\n",
    "\n",
    "# first, import the Group() function\n",
    "# Next, calculate the crosstabs for your dataset and print them out below\n",
    "\n",
    "g = Group()\n",
    "xtab, _ = g.get_crosstabs(aequitas_df)\n",
    "\n",
    "\n",
    "\n",
    "#bdf = b.get_disparity_predefined_groups(xtab, original_df=df, ref_groups_dict={'race':'Caucasian', 'sex':'Male', 'age_cat':'25 - 45'}, alpha=0.05, mask_significance=True)"
   ]
  },
  {
   "cell_type": "code",
   "execution_count": 6,
   "id": "3c4942e7",
   "metadata": {},
   "outputs": [],
   "source": [
    "'''\n",
    "Disparities Calculated:\n",
    "\n",
    "True Positive Rate Disparity - ‘tpr_disprity’\n",
    "\n",
    "True Negative Rate - ‘tnr_disparity’\n",
    "\n",
    "False Omission Rate - ‘for_disparity’\n",
    "\n",
    "False Discovery Rate - ‘fdr_disparity’\n",
    "\n",
    "False Positive Rate - ‘fpr_disparity’\n",
    "\n",
    "False NegativeRate - ‘fnr_disparity’\n",
    "\n",
    "Negative Predictive Value - ‘npv_disparity’\n",
    "\n",
    "Precision Disparity - ‘precision_disparity’\n",
    "\n",
    "Predicted Positive Ratio_k Disparity - ‘ppr_disparity’\n",
    "\n",
    "Predicted Positive Ratio_g Disparity - ‘pprev_disparity’\n",
    "'''\n",
    "\n",
    "# Next, import the Bias() function and set it to a variable\n",
    "\n",
    "b = Bias()\n",
    "\n",
    "# Now, use the get_disparity_predefined_groups function to set a reference group and calculate disparity relative to that reference group\n",
    "\n",
    "hbdf = b.get_disparity_predefined_groups(xtab, original_df=aequitas_df,\n",
    "                                         ref_groups_dict={'race':'Caucasian', 'sex':'Male', 'age_cat':'25 - 45'},\n",
    "                                         alpha=0.05,\n",
    "                                         mask_significance=False)\n",
    "\n",
    "# Finally, print out the disparity calculations for visualization below"
   ]
  },
  {
   "cell_type": "code",
   "execution_count": 4,
   "id": "8d3838c3",
   "metadata": {},
   "outputs": [
    {
     "ename": "NameError",
     "evalue": "name 'hbdf' is not defined",
     "output_type": "error",
     "traceback": [
      "\u001b[0;31m---------------------------------------------------------------------------\u001b[0m",
      "\u001b[0;31mNameError\u001b[0m                                 Traceback (most recent call last)",
      "Cell \u001b[0;32mIn[4], line 1\u001b[0m\n\u001b[0;32m----> 1\u001b[0m \u001b[43mhbdf\u001b[49m[ [ \u001b[38;5;124m'\u001b[39m\u001b[38;5;124mattribute_name\u001b[39m\u001b[38;5;124m'\u001b[39m, \u001b[38;5;124m'\u001b[39m\u001b[38;5;124mattribute_value\u001b[39m\u001b[38;5;124m'\u001b[39m, \u001b[38;5;124m'\u001b[39m\u001b[38;5;124mfpr_disparity\u001b[39m\u001b[38;5;124m'\u001b[39m, \u001b[38;5;124m'\u001b[39m\u001b[38;5;124mfnr_disparity\u001b[39m\u001b[38;5;124m'\u001b[39m]]\n",
      "\u001b[0;31mNameError\u001b[0m: name 'hbdf' is not defined"
     ]
    }
   ],
   "source": [
    "hbdf[ [ 'attribute_name', 'attribute_value', 'fpr_disparity', 'fnr_disparity']]"
   ]
  },
  {
   "cell_type": "markdown",
   "id": "dcd82108",
   "metadata": {},
   "source": [
    "In the space below, describe what the False Positive Ratio and the False Negative Rate tell you about the disparities between the groups:\n",
    "\n",
    "<i>TODO: Your text here.</i>\n",
    "\n"
   ]
  },
  {
   "cell_type": "markdown",
   "id": "cb166362",
   "metadata": {},
   "source": [
    "The model we have trained has proclivity to suspect African American, Native Americans, and the people under the age of 25 as show with it's higher rate of 'fpr_disparity' Hispanics recieve a boost with a slightly higher false negative rate and people over the age of 45 see a significiently higher false negative rate. Hence, they are less likely to be predicted as repeat offenders by the model- \n"
   ]
  },
  {
   "cell_type": "code",
   "execution_count": null,
   "id": "7b551279",
   "metadata": {},
   "outputs": [],
   "source": []
  }
 ],
 "metadata": {
  "kernelspec": {
   "display_name": "Python 3 (ipykernel)",
   "language": "python",
   "name": "python3"
  },
  "language_info": {
   "codemirror_mode": {
    "name": "ipython",
    "version": 3
   },
   "file_extension": ".py",
   "mimetype": "text/x-python",
   "name": "python",
   "nbconvert_exporter": "python",
   "pygments_lexer": "ipython3",
   "version": "3.10.13"
  }
 },
 "nbformat": 4,
 "nbformat_minor": 5
}
