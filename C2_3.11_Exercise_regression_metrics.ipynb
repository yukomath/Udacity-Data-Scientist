{
 "cells": [
  {
   "cell_type": "markdown",
   "id": "8b0ad0bb-882e-47cf-98bc-6897fa563fc3",
   "metadata": {},
   "source": [
    "# Regression Metrics\n",
    "\n",
    "During the course of this notebook, you will calculate MSE and $R^2$ metrics for a linear regression model."
   ]
  },
  {
   "cell_type": "code",
   "execution_count": 1,
   "id": "fa11af96-4d4e-4834-96e2-cfdcf8063b87",
   "metadata": {},
   "outputs": [],
   "source": [
    "from sklearn.datasets import load_linnerud\n",
    "from sklearn.linear_model import LinearRegression\n",
    "import matplotlib.pyplot as plt\n",
    "import pandas as pd"
   ]
  },
  {
   "cell_type": "markdown",
   "id": "6bd602c0-230a-4f74-bd1b-820d007df108",
   "metadata": {},
   "source": [
    "## Dataset Setup\n",
    "\n",
    "In the cell below, we load the Linnerud dataset ([documentation here](https://scikit-learn.org/stable/datasets/toy_dataset.html#linnerrud-dataset)), a toy dataset from scikit-learn containing exercise and physiological data points."
   ]
  },
  {
   "cell_type": "code",
   "execution_count": 2,
   "id": "c681fd7c-a9b4-4e3b-90ad-a95643f1bcef",
   "metadata": {},
   "outputs": [],
   "source": [
    "linnerud = load_linnerud()\n",
    "\n",
    "features = pd.DataFrame(data=linnerud.data, columns=linnerud.feature_names)\n",
    "targets = pd.DataFrame(data=linnerud.target, columns=linnerud.target_names)"
   ]
  },
  {
   "cell_type": "code",
   "execution_count": 3,
   "id": "505a43d6-26c2-4f76-aa11-c480a1c0a1e2",
   "metadata": {},
   "outputs": [
    {
     "data": {
      "text/html": [
       "<div>\n",
       "<style scoped>\n",
       "    .dataframe tbody tr th:only-of-type {\n",
       "        vertical-align: middle;\n",
       "    }\n",
       "\n",
       "    .dataframe tbody tr th {\n",
       "        vertical-align: top;\n",
       "    }\n",
       "\n",
       "    .dataframe thead th {\n",
       "        text-align: right;\n",
       "    }\n",
       "</style>\n",
       "<table border=\"1\" class=\"dataframe\">\n",
       "  <thead>\n",
       "    <tr style=\"text-align: right;\">\n",
       "      <th></th>\n",
       "      <th>Chins</th>\n",
       "      <th>Situps</th>\n",
       "      <th>Jumps</th>\n",
       "    </tr>\n",
       "  </thead>\n",
       "  <tbody>\n",
       "    <tr>\n",
       "      <th>0</th>\n",
       "      <td>5.0</td>\n",
       "      <td>162.0</td>\n",
       "      <td>60.0</td>\n",
       "    </tr>\n",
       "    <tr>\n",
       "      <th>1</th>\n",
       "      <td>2.0</td>\n",
       "      <td>110.0</td>\n",
       "      <td>60.0</td>\n",
       "    </tr>\n",
       "    <tr>\n",
       "      <th>2</th>\n",
       "      <td>12.0</td>\n",
       "      <td>101.0</td>\n",
       "      <td>101.0</td>\n",
       "    </tr>\n",
       "    <tr>\n",
       "      <th>3</th>\n",
       "      <td>12.0</td>\n",
       "      <td>105.0</td>\n",
       "      <td>37.0</td>\n",
       "    </tr>\n",
       "    <tr>\n",
       "      <th>4</th>\n",
       "      <td>13.0</td>\n",
       "      <td>155.0</td>\n",
       "      <td>58.0</td>\n",
       "    </tr>\n",
       "    <tr>\n",
       "      <th>5</th>\n",
       "      <td>4.0</td>\n",
       "      <td>101.0</td>\n",
       "      <td>42.0</td>\n",
       "    </tr>\n",
       "    <tr>\n",
       "      <th>6</th>\n",
       "      <td>8.0</td>\n",
       "      <td>101.0</td>\n",
       "      <td>38.0</td>\n",
       "    </tr>\n",
       "    <tr>\n",
       "      <th>7</th>\n",
       "      <td>6.0</td>\n",
       "      <td>125.0</td>\n",
       "      <td>40.0</td>\n",
       "    </tr>\n",
       "    <tr>\n",
       "      <th>8</th>\n",
       "      <td>15.0</td>\n",
       "      <td>200.0</td>\n",
       "      <td>40.0</td>\n",
       "    </tr>\n",
       "    <tr>\n",
       "      <th>9</th>\n",
       "      <td>17.0</td>\n",
       "      <td>251.0</td>\n",
       "      <td>250.0</td>\n",
       "    </tr>\n",
       "    <tr>\n",
       "      <th>10</th>\n",
       "      <td>17.0</td>\n",
       "      <td>120.0</td>\n",
       "      <td>38.0</td>\n",
       "    </tr>\n",
       "    <tr>\n",
       "      <th>11</th>\n",
       "      <td>13.0</td>\n",
       "      <td>210.0</td>\n",
       "      <td>115.0</td>\n",
       "    </tr>\n",
       "    <tr>\n",
       "      <th>12</th>\n",
       "      <td>14.0</td>\n",
       "      <td>215.0</td>\n",
       "      <td>105.0</td>\n",
       "    </tr>\n",
       "    <tr>\n",
       "      <th>13</th>\n",
       "      <td>1.0</td>\n",
       "      <td>50.0</td>\n",
       "      <td>50.0</td>\n",
       "    </tr>\n",
       "    <tr>\n",
       "      <th>14</th>\n",
       "      <td>6.0</td>\n",
       "      <td>70.0</td>\n",
       "      <td>31.0</td>\n",
       "    </tr>\n",
       "    <tr>\n",
       "      <th>15</th>\n",
       "      <td>12.0</td>\n",
       "      <td>210.0</td>\n",
       "      <td>120.0</td>\n",
       "    </tr>\n",
       "    <tr>\n",
       "      <th>16</th>\n",
       "      <td>4.0</td>\n",
       "      <td>60.0</td>\n",
       "      <td>25.0</td>\n",
       "    </tr>\n",
       "    <tr>\n",
       "      <th>17</th>\n",
       "      <td>11.0</td>\n",
       "      <td>230.0</td>\n",
       "      <td>80.0</td>\n",
       "    </tr>\n",
       "    <tr>\n",
       "      <th>18</th>\n",
       "      <td>15.0</td>\n",
       "      <td>225.0</td>\n",
       "      <td>73.0</td>\n",
       "    </tr>\n",
       "    <tr>\n",
       "      <th>19</th>\n",
       "      <td>2.0</td>\n",
       "      <td>110.0</td>\n",
       "      <td>43.0</td>\n",
       "    </tr>\n",
       "  </tbody>\n",
       "</table>\n",
       "</div>"
      ],
      "text/plain": [
       "    Chins  Situps  Jumps\n",
       "0     5.0   162.0   60.0\n",
       "1     2.0   110.0   60.0\n",
       "2    12.0   101.0  101.0\n",
       "3    12.0   105.0   37.0\n",
       "4    13.0   155.0   58.0\n",
       "5     4.0   101.0   42.0\n",
       "6     8.0   101.0   38.0\n",
       "7     6.0   125.0   40.0\n",
       "8    15.0   200.0   40.0\n",
       "9    17.0   251.0  250.0\n",
       "10   17.0   120.0   38.0\n",
       "11   13.0   210.0  115.0\n",
       "12   14.0   215.0  105.0\n",
       "13    1.0    50.0   50.0\n",
       "14    6.0    70.0   31.0\n",
       "15   12.0   210.0  120.0\n",
       "16    4.0    60.0   25.0\n",
       "17   11.0   230.0   80.0\n",
       "18   15.0   225.0   73.0\n",
       "19    2.0   110.0   43.0"
      ]
     },
     "execution_count": 3,
     "metadata": {},
     "output_type": "execute_result"
    }
   ],
   "source": [
    "features"
   ]
  },
  {
   "cell_type": "code",
   "execution_count": 4,
   "id": "8c2f5c37-e307-46f4-aea4-410b4c575a55",
   "metadata": {},
   "outputs": [
    {
     "data": {
      "text/plain": [
       "0     191.0\n",
       "1     189.0\n",
       "2     193.0\n",
       "3     162.0\n",
       "4     189.0\n",
       "5     182.0\n",
       "6     211.0\n",
       "7     167.0\n",
       "8     176.0\n",
       "9     154.0\n",
       "10    169.0\n",
       "11    166.0\n",
       "12    154.0\n",
       "13    247.0\n",
       "14    193.0\n",
       "15    202.0\n",
       "16    176.0\n",
       "17    157.0\n",
       "18    156.0\n",
       "19    138.0\n",
       "Name: Weight, dtype: float64"
      ]
     },
     "execution_count": 4,
     "metadata": {},
     "output_type": "execute_result"
    }
   ],
   "source": [
    "targets[\"Weight\"]"
   ]
  },
  {
   "cell_type": "code",
   "execution_count": 5,
   "id": "1bb524e5-654a-4836-94ee-f528e19205dc",
   "metadata": {},
   "outputs": [
    {
     "data": {
      "image/png": "[encoded data removed]",
      "text/plain": [
       "<Figure size 640x480 with 1 Axes>"
      ]
     },
     "metadata": {},
     "output_type": "display_data"
    }
   ],
   "source": [
    "# Visualize the relationship using a scatterplot\n",
    "\n",
    "fig, ax = plt.subplots()\n",
    "ax.scatter(features[\"Situps\"], targets[\"Weight\"], alpha=0.75)\n",
    "ax.set_title(\"Visualizing the Relationship Between Situps and Weight\")\n",
    "ax.set_xlabel(\"Situps\")\n",
    "ax.set_ylabel(\"Weight\");"
   ]
  },
  {
   "cell_type": "markdown",
   "id": "c82bc607-bf81-4063-a875-22a65ce5eae6",
   "metadata": {},
   "source": [
    "## Training a Regressor\n",
    "\n",
    "Next, we train a linear regression model ([documentation here](https://scikit-learn.org/stable/modules/generated/sklearn.linear_model.LinearRegression.html)) using our `features` and `targets['Weight']` data."
   ]
  },
  {
   "cell_type": "code",
   "execution_count": 6,
   "id": "636c9b04-3aea-47b8-8934-b422a62168aa",
   "metadata": {},
   "outputs": [],
   "source": [
    "reg = LinearRegression().fit(features, targets['Weight'])"
   ]
  },
  {
   "cell_type": "markdown",
   "id": "bcc2678d-c427-4493-9984-64d9936bcda9",
   "metadata": {},
   "source": [
    "## Your Task: Calculate Regression Metrics\n",
    "\n",
    "Generate predictions, then calculate the following regression metrics:\n",
    "\n",
    "1. MSE ([documentation here](https://scikit-learn.org/stable/modules/generated/sklearn.metrics.mean_squared_error.html))\n",
    "2. $R^2$ ([documentation here](https://scikit-learn.org/stable/modules/generated/sklearn.metrics.r2_score.html))"
   ]
  },
  {
   "cell_type": "code",
   "execution_count": 7,
   "id": "e908f592-4df2-47fc-acff-aa11d80b92a6",
   "metadata": {},
   "outputs": [],
   "source": [
    "# TODO: get predictions for features\n",
    "y_pred = reg.predict(features)"
   ]
  },
  {
   "cell_type": "code",
   "execution_count": 8,
   "id": "58819122-6f7a-447a-9091-9c6de02eccd6",
   "metadata": {},
   "outputs": [],
   "source": [
    "# TODO: import MSE metric\n",
    "from sklearn.metrics import mean_squared_error\n",
    "\n",
    "# TODO: calculate MSE for predictions\n",
    "mse = mean_squared_error(targets['Weight'], y_pred)\n"
   ]
  },
  {
   "cell_type": "code",
   "execution_count": 9,
   "id": "ded7ec81-58b1-49c0-bb7e-a96bda0d0569",
   "metadata": {},
   "outputs": [],
   "source": [
    "# TODO: import r2 metric\n",
    "from sklearn.metrics import r2_score\n",
    "\n",
    "# TODO: calculate r2 for predictions\n",
    "r2 = r2_score(targets['Weight'], y_pred)"
   ]
  },
  {
   "cell_type": "code",
   "execution_count": 10,
   "id": "918340fd-42bc-472b-ba9f-fd2cb57bc3d4",
   "metadata": {},
   "outputs": [
    {
     "name": "stdout",
     "output_type": "stream",
     "text": [
      "The coefficients of regression for the model are:\n",
      "The MSE of the model is 423.98.\n",
      "The R2 value is 0.27.\n"
     ]
    }
   ],
   "source": [
    "print(\"The coefficients of regression for the model are:\")\n",
    "print(\"The MSE of the model is {}.\".format(round(mse, 2)))\n",
    "print(\"The R2 value is {}.\".format(round(r2, 2)))"
   ]
  },
  {
   "cell_type": "code",
   "execution_count": null,
   "id": "570dd484",
   "metadata": {},
   "outputs": [],
   "source": []
  }
 ],
 "metadata": {
  "kernelspec": {
   "display_name": "Python 3 (ipykernel)",
   "language": "python",
   "name": "python3"
  },
  "language_info": {
   "codemirror_mode": {
    "name": "ipython",
    "version": 3
   },
   "file_extension": ".py",
   "mimetype": "text/x-python",
   "name": "python",
   "nbconvert_exporter": "python",
   "pygments_lexer": "ipython3",
   "version": "3.10.13"
  }
 },
 "nbformat": 4,
 "nbformat_minor": 5
}
